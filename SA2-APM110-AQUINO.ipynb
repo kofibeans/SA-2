{
 "cells": [
  {
   "attachments": {},
   "cell_type": "markdown",
   "id": "75649e08",
   "metadata": {},
   "source": [
    "# **Summative Assessment 2**\n",
    "by Leiana Mari D. Aquino"
   ]
  },
  {
   "attachments": {},
   "cell_type": "markdown",
   "id": "490367f3",
   "metadata": {},
   "source": [
    "### **1 - Modelling Bitcoin Returns**\n",
    "\n",
    "Find out which probability distribution function best fits Bitcoin’s returns for trading data every minute, from January 1, 2012 to April 15, 2023, for Bitcoin quoted in United States dollars or the BTC/USD pair."
   ]
  },
  {
   "attachments": {},
   "cell_type": "markdown",
   "id": "878d9b53",
   "metadata": {},
   "source": [
    "**Background**\n",
    "\n",
    "Bitcoin is a decentralized digital currency that was created in 2009 by an unknown person or group using the pseudonym Satoshi Nakamoto. It is based on a peer-to-peer network that allows users to send and receive payments without the need for a central authority, such as a bank or government.\n",
    "\n",
    "**Data Description**\n",
    "\n",
    "This dataset includes the historical bitcoin market data at 1-min intervals for select bitcoin exchanges where trading takes place. "
   ]
  },
  {
   "attachments": {},
   "cell_type": "markdown",
   "id": "2b22e0b8",
   "metadata": {},
   "source": [
    "**Loading packages**"
   ]
  },
  {
   "cell_type": "code",
   "execution_count": 11,
   "id": "31100251",
   "metadata": {
    "vscode": {
     "languageId": "r"
    }
   },
   "outputs": [
    {
     "name": "stderr",
     "output_type": "stream",
     "text": [
      "\n",
      "Attaching package: 'dplyr'\n",
      "\n",
      "\n",
      "The following objects are masked from 'package:stats':\n",
      "\n",
      "    filter, lag\n",
      "\n",
      "\n",
      "The following objects are masked from 'package:base':\n",
      "\n",
      "    intersect, setdiff, setequal, union\n",
      "\n",
      "\n",
      "\n",
      "Attaching package: 'data.table'\n",
      "\n",
      "\n",
      "The following objects are masked from 'package:dplyr':\n",
      "\n",
      "    between, first, last\n",
      "\n",
      "\n",
      "The following object is masked from 'package:DataCombine':\n",
      "\n",
      "    shift\n",
      "\n",
      "\n",
      "------------------------------------------------------------------------------\n",
      "\n",
      "You have loaded plyr after dplyr - this is likely to cause problems.\n",
      "If you need functions from both plyr and dplyr, please load plyr first, then dplyr:\n",
      "library(plyr); library(dplyr)\n",
      "\n",
      "------------------------------------------------------------------------------\n",
      "\n",
      "\n",
      "Attaching package: 'plyr'\n",
      "\n",
      "\n",
      "The following objects are masked from 'package:dplyr':\n",
      "\n",
      "    arrange, count, desc, failwith, id, mutate, rename, summarise,\n",
      "    summarize\n",
      "\n",
      "\n",
      "\n",
      "Attaching package: 'EnvStats'\n",
      "\n",
      "\n",
      "The following objects are masked from 'package:stats':\n",
      "\n",
      "    predict, predict.lm\n",
      "\n",
      "\n",
      "The following object is masked from 'package:base':\n",
      "\n",
      "    print.default\n",
      "\n",
      "\n",
      "Loading required package: stats4\n",
      "\n",
      "Loading required package: splines\n",
      "\n",
      "\n",
      "Attaching package: 'VGAM'\n",
      "\n",
      "\n",
      "The following objects are masked from 'package:EnvStats':\n",
      "\n",
      "    calibrate, dpareto, ppareto, qpareto, rpareto\n",
      "\n",
      "\n",
      "Loading required package: MASS\n",
      "\n",
      "\n",
      "Attaching package: 'MASS'\n",
      "\n",
      "\n",
      "The following object is masked from 'package:EnvStats':\n",
      "\n",
      "    boxcox\n",
      "\n",
      "\n",
      "The following object is masked from 'package:dplyr':\n",
      "\n",
      "    select\n",
      "\n",
      "\n",
      "Loading required package: survival\n",
      "\n",
      "\n",
      "Attaching package: 'dgof'\n",
      "\n",
      "\n",
      "The following object is masked from 'package:stats':\n",
      "\n",
      "    ks.test\n",
      "\n",
      "\n"
     ]
    }
   ],
   "source": [
    "oldw <- getOption(\"warn\") # to remove warnings\n",
    "options(warn = -1)\n",
    "\n",
    "library(\"readr\")          # for csv file\n",
    "library(\"dplyr\")          # for data manipulation & transformation\n",
    "library(\"data.table\")     # for data manipulation & transformation\n",
    "library(\"plyr\")           # for data manipulation & transformation\n",
    "library(\"ggplot2\")        # for data visualization\n",
    "library(\"DataCombine\")    # for combining & reshaping data frames\n",
    "\n",
    "library(\"EnvStats\")       # for environmental statistics\n",
    "library(\"anytime\")\n",
    "\n",
    "library(\"VGAM\")           # for fitting various regression models\n",
    "library(\"fitur\")          # for fitting various probability distributions to data\n",
    "\n",
    "library(\"fitdistrplus\")   # for fitting probability distributions to data\n",
    "library(\"tsallisqexp\")    # for fitting the tsallis q-exponential distribution to data \n",
    "library(\"poweRlaw\")       # for fitting power-law distributions to data\n",
    "library(\"dgof\")           # for testing goodness-of-fit of probability distributions\n",
    "\n",
    "options(warn = oldw)"
   ]
  },
  {
   "attachments": {},
   "cell_type": "markdown",
   "id": "07be5a9c",
   "metadata": {},
   "source": [
    "**Importing the Data Set**\n",
    "\n",
    "Importing the data set is the first step in any data analysis project. It involves reading in the data from a file or database and storing it in a data structure that can be manipulated and analyzed."
   ]
  },
  {
   "cell_type": "code",
   "execution_count": 1,
   "id": "e0ea7449",
   "metadata": {
    "vscode": {
     "languageId": "r"
    }
   },
   "outputs": [
    {
     "data": {
      "text/plain": [
       "   Timestamp              Open              High              Low         \n",
       " Min.   :1.325e+09   Min.   :    3.8   Min.   :    3.8   Min.   :    1.5  \n",
       " 1st Qu.:1.414e+09   1st Qu.:  608.3   1st Qu.:  608.6   1st Qu.:  608.0  \n",
       " Median :1.503e+09   Median : 6856.9   Median : 6860.6   Median : 6852.2  \n",
       " Mean   :2.943e+11   Mean   :12546.6   Mean   :12554.7   Mean   :12538.4  \n",
       " 3rd Qu.:1.592e+09   3rd Qu.:17207.6   3rd Qu.:17214.5   3rd Qu.:17201.8  \n",
       " Max.   :1.680e+12   Max.   :69000.0   Max.   :69000.0   Max.   :68786.7  \n",
       "                     NA's   :1243608   NA's   :1243608   NA's   :1243608  \n",
       "     Close             volume        Volume_.Currency.  Weighted_Price   \n",
       " Min.   :    1.5   Min.   :   0.0    Min.   :       0   Min.   :    3.8  \n",
       " 1st Qu.:  608.3   1st Qu.:   0.7    1st Qu.:     452   1st Qu.:  443.8  \n",
       " Median : 6857.1   Median :   4.1    Median :    3810   Median : 3596.8  \n",
       " Mean   :12546.6   Mean   :  28.0    Mean   :   41763   Mean   : 6008.9  \n",
       " 3rd Qu.:17207.7   3rd Qu.:  19.9    3rd Qu.:   25698   3rd Qu.: 8627.6  \n",
       " Max.   :69000.0   Max.   :5877.8    Max.   :13900672   Max.   :61716.2  \n",
       " NA's   :1243608   NA's   :1243608   NA's   :2293880    NA's   :2293880  "
      ]
     },
     "metadata": {},
     "output_type": "display_data"
    }
   ],
   "source": [
    "# load the data set then run a summary\n",
    "btc_data <- read.csv(\"C:/Users/maril/Downloads/SA2/merged_btc_data.csv\")\n",
    "summary(btc_data)"
   ]
  },
  {
   "attachments": {},
   "cell_type": "markdown",
   "id": "0609ecb1",
   "metadata": {},
   "source": [
    "**Data Dictionary**\n",
    "\n",
    "\n",
    "As seen in the provided summary of the data set above, the measures of central tendency along with the 1st / 3rd quartile are given. Thus, we can numerically understand the distribution of data -- this is important for when the features are visualized, we will be able to add value and conceptual understanding of the sample for the Bitcoin returns.\n",
    "\n",
    "- **Open** & **Close** represents the *opening* and *closing* price of the given time period.\n",
    "- **Low** & **High** represents the *lowest* and *greatest* value of the given time period.\n",
    "- **Volume** refers to the total number of Bitcoins that have been traded in a given time period.\n",
    "- **Volume Currency** refers to the total value of Bitcoin traded in a given time period.\n",
    "- **Weighted Price** refers to the average price of all Bitcoin trades in a given time period, weighted by the volume of each trade."
   ]
  },
  {
   "attachments": {},
   "cell_type": "markdown",
   "id": "dc891002",
   "metadata": {},
   "source": [
    "**Pre-Processing the Data Set**\n",
    "\n",
    "Pre-processing the data set is a crucial step in any data analysis project. It involves cleaning and transforming the data to make it suitable for analysis, and performing any necessary data manipulations. This step is important because it ensures that the data is accurate, complete, and in the correct format for analysis.\n"
   ]
  },
  {
   "attachments": {},
   "cell_type": "markdown",
   "id": "529435d6",
   "metadata": {},
   "source": [
    "*To analyze returns, we can start by calculating the daily returns for the Bitcoin trading data set. Therefore, the dataframe needs to be grouped into 24-hour periods.*"
   ]
  },
  {
   "cell_type": "code",
   "execution_count": 12,
   "id": "732b47d0",
   "metadata": {
    "vscode": {
     "languageId": "r"
    }
   },
   "outputs": [],
   "source": [
    "# remove rows with missing values in the \"Close\" column\n",
    "btc_data = DropNA(btc_data, Var = \"Close\", message = FALSE)\n",
    "\n",
    "# convert the first timestamp to a date and time format\n",
    "btc_data['Data'] = anydate(btc_data[1, 'Timestamp'])\n",
    "\n",
    "# replace any remaining missing values with 0\n",
    "btc_data[is.na(btc_data)] <- 0"
   ]
  },
  {
   "cell_type": "code",
   "execution_count": null,
   "id": "17bf3fdd",
   "metadata": {
    "vscode": {
     "languageId": "r"
    }
   },
   "outputs": [],
   "source": [
    "# loop through each row of the data table and convert the timestamp to a date and time format\n",
    "for (i in 1:nrow(btc_data)) {\n",
    "  btc_data[i, 'Data'] <- anydate(btc_data[i, 'Timestamp'])\n",
    "}"
   ]
  },
  {
   "attachments": {},
   "cell_type": "markdown",
   "id": "63e7062f",
   "metadata": {},
   "source": [
    " *Calculate the returns by taking the difference between the midpoint of the current row and the midpoint of the previous row, and dividing by the midpoint of the previous row.*"
   ]
  },
  {
   "cell_type": "code",
   "execution_count": null,
   "id": "c3928315",
   "metadata": {
    "vscode": {
     "languageId": "r"
    }
   },
   "outputs": [],
   "source": [
    "# convert the data table to a data table object\n",
    "df <- data.table(btc_data)\n",
    "\n",
    "# aggregate the low and high prices by date\n",
    "a <- aggregate(df$Low, by = list(df$Data), min)\n",
    "names(a)[1] <- c(\"Data\")\n",
    "names(a)[2] <- c(\"Low\")\n",
    "\n",
    "b <- aggregate(df$High, by = list(df$Data), max)\n",
    "names(b)[1] <- c(\"Data\")\n",
    "names(b)[2] <- c(\"High\")\n",
    "\n",
    "# merge the low and high price data frames by date\n",
    "df <- merge(x = a, y = b, by = \"Data\", all = TRUE)"
   ]
  },
  {
   "attachments": {},
   "cell_type": "markdown",
   "id": "1438b987",
   "metadata": {},
   "source": [
    "*This will give us the percentage change in price over each 24-hour period.*"
   ]
  },
  {
   "cell_type": "code",
   "execution_count": null,
   "id": "7d186a13",
   "metadata": {
    "vscode": {
     "languageId": "r"
    }
   },
   "outputs": [],
   "source": [
    "# create new columns for daily return and midpoint of daily trading range\n",
    "df['return'] = NaN\n",
    "df['Mid'] = NaN\n",
    "\n",
    "# calculate midpoint of daily trading range for first row\n",
    "df[1, 'Mid'] = (df[1, 'High'] - df[1, 'Low']) / 2 + df[1, 'Low']\n",
    "\n",
    "# loop through each row of the data table and calculate midpoint and daily return\n",
    "for (i in 2:nrow(df)) {\n",
    "  # Calculate midpoint of daily trading range for current row\n",
    "  df[i, 'Mid'] = (df[i, 'High'] - df[i, 'Low']) / 2 + df[i, 'Low']\n",
    "  \n",
    "  # Calculate daily return for current row\n",
    "  df[i, 'return'] = (df[i, 'Mid'] - df[i - 1, 'Mid']) / df[i - 1, 'Mid']\n",
    "}"
   ]
  },
  {
   "attachments": {},
   "cell_type": "markdown",
   "id": "bacbb60f",
   "metadata": {},
   "source": [
    "**Data Visualization**\n",
    "\n",
    "After calculating the daily returns, the distribution of returns can be visualized using a histogram or density plot. By visualizing the distribution of returns, we can get a better understanding of the shape of the distribution, including its central tendency, spread, and skewness. This information can be useful for identifying any outliers or extreme values in the data, as well as for selecting appropriate statistical models for analyzing the data."
   ]
  },
  {
   "cell_type": "code",
   "execution_count": null,
   "id": "c38165f3",
   "metadata": {
    "vscode": {
     "languageId": "r"
    }
   },
   "outputs": [],
   "source": [
    "# create a histogram of the daily returns for Bitcoin\n",
    "qplot(DropNA(df['return']),\n",
    "      geom = \"histogram\",\n",
    "      binwidth = 0.005,\n",
    "      main = \"Histogram of Returns of Bitcoin in US Dollars\",\n",
    "      xlab = \"Return\",\n",
    "      fill = I(\"blue\"),\n",
    "      col = I(\"red\"),\n",
    "      alpha = I(.2),\n",
    "      xlim = c(-0.3, 0.3))"
   ]
  },
  {
   "cell_type": "code",
   "execution_count": null,
   "id": "d65ba6f8",
   "metadata": {
    "vscode": {
     "languageId": "r"
    }
   },
   "outputs": [],
   "source": [
    "# create a density plot of the daily returns for Bitcoin\n",
    "ggplot(data = df, aes(x = return)) +\n",
    "  geom_density(fill = \"blue\", alpha = 0.2, color = \"red\") +\n",
    "  ggtitle(\"Density Plot of Returns of Bitcoin in US Dollars\") +\n",
    "  xlab(\"Return\") +\n",
    "  xlim(-0.3, 0.3)"
   ]
  },
  {
   "attachments": {},
   "cell_type": "markdown",
   "id": "3c8ffb36",
   "metadata": {},
   "source": [
    "**Data Distribution**\n",
    "\n",
    "Assess which of the distributions (Normal, Student's T, Laplace, Tsallis, Power Law) best fits the price of Bitcoin."
   ]
  },
  {
   "attachments": {},
   "cell_type": "markdown",
   "id": "b0585eb2",
   "metadata": {},
   "source": [
    "- Normal Distribution"
   ]
  },
  {
   "cell_type": "code",
   "execution_count": null,
   "id": "5aa359ea",
   "metadata": {
    "vscode": {
     "languageId": "r"
    }
   },
   "outputs": [],
   "source": [
    "# normal distribution:\n",
    "df_test = rnorm(length(DropNA(df['return'])), mean = mean(DropNA(df['return'])), sd = sd(DropNA(df['return'])))\n",
    "ks.test(DropNA(df['return']),df_test)"
   ]
  },
  {
   "attachments": {},
   "cell_type": "markdown",
   "id": "613a0b44",
   "metadata": {},
   "source": [
    "- Student's T Distribution"
   ]
  },
  {
   "cell_type": "code",
   "execution_count": null,
   "id": "2c8489ae",
   "metadata": {
    "vscode": {
     "languageId": "r"
    }
   },
   "outputs": [],
   "source": [
    "# student's t distribution:\n",
    "df_test = rt(length(DropNA(df['return'])), length(DropNA(df['return']))-1)\n",
    "ks.test(DropNA(df['return']),df_test)"
   ]
  },
  {
   "attachments": {},
   "cell_type": "markdown",
   "id": "f1f32b1a",
   "metadata": {},
   "source": [
    "- Laplace Distribution"
   ]
  },
  {
   "cell_type": "code",
   "execution_count": null,
   "id": "b9e32b24",
   "metadata": {
    "vscode": {
     "languageId": "r"
    }
   },
   "outputs": [],
   "source": [
    "# laplace distribution:\n",
    "df_test = rlaplace(length(DropNA(df['return'])), mean(DropNA(df['return'])), sd(DropNA(df['return'])))\n",
    "ks.test(DropNA(df['return']),df_test)"
   ]
  },
  {
   "attachments": {},
   "cell_type": "markdown",
   "id": "888f0398",
   "metadata": {},
   "source": [
    "- Tsallis Distribution"
   ]
  },
  {
   "cell_type": "code",
   "execution_count": null,
   "id": "63186e58",
   "metadata": {
    "vscode": {
     "languageId": "r"
    }
   },
   "outputs": [],
   "source": [
    "# tsallis distribution :\n",
    "df_test = rtsal(length(DropNA(df['return'])), mean(DropNA(df['return'])), sd(DropNA(df['return'])))\n",
    "ks.test(DropNA(df['return']),df_test)"
   ]
  },
  {
   "attachments": {},
   "cell_type": "markdown",
   "id": "fb0532b7",
   "metadata": {},
   "source": [
    "- Power Law Distribution"
   ]
  },
  {
   "cell_type": "code",
   "execution_count": null,
   "id": "e0c364dc",
   "metadata": {
    "vscode": {
     "languageId": "r"
    }
   },
   "outputs": [],
   "source": [
    "# powerLaw distribution:\n",
    "df_test = rplcon(length(DropNA(df['return'])), -0.3, sd(DropNA(df['return'])))\n",
    "ks.test(DropNA(df['return']),df_test)"
   ]
  },
  {
   "attachments": {},
   "cell_type": "markdown",
   "id": "03e7c1dd",
   "metadata": {},
   "source": [
    "- Other ways to determine which probability fits the best."
   ]
  },
  {
   "cell_type": "code",
   "execution_count": null,
   "id": "67a017c6",
   "metadata": {
    "vscode": {
     "languageId": "r"
    }
   },
   "outputs": [],
   "source": [
    "# fit several probability distributions to the daily returns\n",
    "fit.norm <- fitdist(returns, \"norm\")\n",
    "fit.t <- fitdist(returns, \"t\")\n",
    "fit.laplace <- fitdist(returns, \"laplace\")\n",
    "fit.cauchy <- fitdist(returns, \"cauchy\")"
   ]
  },
  {
   "cell_type": "code",
   "execution_count": null,
   "id": "f28dd38a",
   "metadata": {
    "vscode": {
     "languageId": "r"
    }
   },
   "outputs": [],
   "source": [
    "# compare the goodness of fit of the probability distributions using the AIC criterion\n",
    "AIC.df <- data.frame(Distribution = c(\"Normal\", \"Student-t\", \"Laplace\", \"Cauchy\"),\n",
    "                     AIC = c(AIC(fit.norm), AIC(fit.t), AIC(fit.laplace), AIC(fit.cauchy)))\n",
    "\n",
    "# print the AIC values for each distribution\n",
    "print(AIC.df)"
   ]
  },
  {
   "attachments": {},
   "cell_type": "markdown",
   "id": "94c6fed0",
   "metadata": {},
   "source": [
    "**Conclusion**\n",
    "\n",
    "The D statistic is a measure of the distance between the empirical distribution function (EDF) of the data and the theoretical distribution function (TDF) of the fitted probability distribution. A smaller D statistic indicates a better fit between the data and the probability distribution.\n",
    "\n",
    "\n",
    "Based on the D statistics provided, the **Laplace distribution** has the smallest D statistic (0.1285), followed closely by the Normal distribution (0.14951). This suggests that the Laplace distribution provides the best fit to the Bitcoin returns data, but the Normal distribution is also a good fit."
   ]
  },
  {
   "attachments": {},
   "cell_type": "markdown",
   "id": "b33c7ff4",
   "metadata": {},
   "source": [
    "### **2 - Testing the Ethereum Returns**\n",
    "\n",
    "Using Shapiro-Wilk normality, test the Ethereum returns for trading data every five minutes, from August 7, 2015 to April 15, 2023."
   ]
  },
  {
   "attachments": {},
   "cell_type": "markdown",
   "id": "9aaa33d4",
   "metadata": {},
   "source": [
    "**Background**\n",
    "\n",
    "Ethereum is a decentralized, open-source blockchain with smart contract functionality. Ether (ETH) is the native cryptocurrency of the platform. Among cryptocurrencies, Ether is second only to Bitcoin in market capitalization. Ethereum was proposed in 2013 by programmer Vitalik Buterin.\n",
    "\n",
    "**Data Description**\n",
    "\n",
    "This dataset provides the history of daily prices of Ethereum at 5-min interval."
   ]
  },
  {
   "cell_type": "code",
   "execution_count": 1,
   "id": "a711a253",
   "metadata": {
    "vscode": {
     "languageId": "r"
    }
   },
   "outputs": [
    {
     "name": "stderr",
     "output_type": "stream",
     "text": [
      "Warning message:\n",
      "\"package 'quantmod' was built under R version 4.2.3\"\n",
      "Loading required package: xts\n",
      "\n",
      "Warning message:\n",
      "\"package 'xts' was built under R version 4.2.3\"\n",
      "Loading required package: zoo\n",
      "\n",
      "Warning message:\n",
      "\"package 'zoo' was built under R version 4.2.3\"\n",
      "\n",
      "Attaching package: 'zoo'\n",
      "\n",
      "\n",
      "The following objects are masked from 'package:base':\n",
      "\n",
      "    as.Date, as.Date.numeric\n",
      "\n",
      "\n",
      "Loading required package: TTR\n",
      "\n",
      "Warning message:\n",
      "\"package 'TTR' was built under R version 4.2.3\"\n",
      "Registered S3 method overwritten by 'quantmod':\n",
      "  method            from\n",
      "  as.zoo.data.frame zoo \n",
      "\n",
      "Warning message:\n",
      "\"package 'readr' was built under R version 4.2.3\"\n"
     ]
    }
   ],
   "source": [
    "# load the packages\n",
    "library(\"stats\")\n",
    "library(\"quantmod\")\n",
    "library(\"readr\")"
   ]
  },
  {
   "cell_type": "code",
   "execution_count": 1,
   "id": "e0f74c65",
   "metadata": {
    "vscode": {
     "languageId": "r"
    }
   },
   "outputs": [
    {
     "data": {
      "text/plain": [
       " Unix.Timestamp          Date              Symbol               Open       \n",
       " Min.   :1.463e+09   Length:2294948     Length:2294948     Min.   :   0.0  \n",
       " 1st Qu.:1.493e+09   Class :character   Class :character   1st Qu.: 108.0  \n",
       " Median :1.522e+09   Mode  :character   Mode  :character   Median : 209.0  \n",
       " Mean   :6.155e+11                                         Mean   : 456.4  \n",
       " 3rd Qu.:1.555e+12                                         3rd Qu.: 441.0  \n",
       " Max.   :1.587e+12                                         Max.   :4862.0  \n",
       " NA's   :310936                                                            \n",
       "      High              Low             Close             Volume         \n",
       " Min.   :   5.99   Min.   :   0.0   Min.   :   5.99   Min.   :        0  \n",
       " 1st Qu.: 108.00   1st Qu.: 107.9   1st Qu.: 107.95   1st Qu.:        0  \n",
       " Median : 209.09   Median : 208.9   Median : 209.00   Median :        0  \n",
       " Mean   : 456.98   Mean   : 455.8   Mean   : 456.41   Mean   :   609621  \n",
       " 3rd Qu.: 441.46   3rd Qu.: 440.7   3rd Qu.: 441.01   3rd Qu.:       38  \n",
       " Max.   :4868.00   Max.   :4847.7   Max.   :4862.01   Max.   :225569410  \n",
       "                                                                         \n",
       "    returns         \n",
       " Min.   :-358.5000  \n",
       " 1st Qu.:   0.0000  \n",
       " Median :   0.0000  \n",
       " Mean   :  -0.0007  \n",
       " 3rd Qu.:   0.0000  \n",
       " Max.   : 453.2300  \n",
       "                    "
      ]
     },
     "metadata": {},
     "output_type": "display_data"
    }
   ],
   "source": [
    "# load the Ethereum trading data set\n",
    "eth_data <- read.csv(\"C:/Users/maril/Downloads/SA2/ethereum_compiled_data.csv\")\n",
    "summary(eth_data)"
   ]
  },
  {
   "cell_type": "code",
   "execution_count": null,
   "id": "5f08d7bc",
   "metadata": {
    "vscode": {
     "languageId": "r"
    }
   },
   "outputs": [],
   "source": [
    "# calculate the returns from the Ethereum trading set\n",
    "eth_returns <- diff(log(eth_data$Close))\n",
    "\n",
    "# perform a Shapiro-Wilk normality test on the Ethereum returns\n",
    "shapiro.test(eth_returns)\n",
    "\n",
    "# print the results of the Shapiro-Wilk test\n",
    "cat(\"Shapiro-Wilk normality test results:\\n\")\n",
    "cat(\"Test statistic = \", shapiro.test(eth_returns)$statistic, \"\\n\")\n",
    "cat(\"p-value = \", shapiro.test(eth_returns)$p.value, \"\\n\")\n",
    "\n",
    "# interpret the results of the Shapiro-Wilk test\n",
    "if (shapiro.test(eth_returns)$p.value < 0.05) {\n",
    "  cat(\"The Ethereum returns are not normally distributed.\\n\")\n",
    "} else {\n",
    "  cat(\"The Ethereum returns are normally distributed.\\n\")\n",
    "}"
   ]
  }
 ],
 "metadata": {
  "kernelspec": {
   "display_name": "R",
   "language": "R",
   "name": "ir"
  },
  "language_info": {
   "codemirror_mode": "r",
   "file_extension": ".r",
   "mimetype": "text/x-r-source",
   "name": "R",
   "pygments_lexer": "r",
   "version": "4.2.2"
  },
  "papermill": {
   "default_parameters": {},
   "duration": 400.493097,
   "end_time": "2022-05-18T18:26:13.232805",
   "environment_variables": {},
   "exception": null,
   "input_path": "__notebook__.ipynb",
   "output_path": "__notebook__.ipynb",
   "parameters": {},
   "start_time": "2022-05-18T18:19:32.739708",
   "version": "2.3.3"
  }
 },
 "nbformat": 4,
 "nbformat_minor": 5
}
